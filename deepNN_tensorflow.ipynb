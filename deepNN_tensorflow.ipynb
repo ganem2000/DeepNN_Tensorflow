{
  "nbformat": 4,
  "nbformat_minor": 0,
  "metadata": {
    "coursera": {
      "course_slug": "neural-networks-deep-learning",
      "graded_item_id": "TSPse",
      "launcher_item_id": "24mxX"
    },
    "kernelspec": {
      "display_name": "Python 3",
      "language": "python",
      "name": "python3"
    },
    "language_info": {
      "codemirror_mode": {
        "name": "ipython",
        "version": 3
      },
      "file_extension": ".py",
      "mimetype": "text/x-python",
      "name": "python",
      "nbconvert_exporter": "python",
      "pygments_lexer": "ipython3",
      "version": "3.8.10"
    },
    "colab": {
      "name": "deepNN_tensorflow.ipynb",
      "provenance": [],
      "collapsed_sections": [],
      "include_colab_link": true
    }
  },
  "cells": [
    {
      "cell_type": "markdown",
      "metadata": {
        "id": "view-in-github",
        "colab_type": "text"
      },
      "source": [
        "<a href=\"https://colab.research.google.com/github/ganem2000/DeepNN_Tensorflow/blob/main/deepNN_tensorflow.ipynb\" target=\"_parent\"><img src=\"https://colab.research.google.com/assets/colab-badge.svg\" alt=\"Open In Colab\"/></a>"
      ]
    },
    {
      "cell_type": "markdown",
      "metadata": {
        "id": "WQInL2R-rxRP"
      },
      "source": [
        "# Image Application: cat or not?\n",
        "\n",
        "**After this assignment you will be able to:**\n",
        "- Build and apply a deep neural network to supervised learning. \n",
        "- Learn how to do data normalization\n",
        "- learn how to do weight initialization\n",
        "- Learn how to use regularization\n",
        "\n",
        "Let's get started!"
      ]
    },
    {
      "cell_type": "markdown",
      "metadata": {
        "id": "xys4aQ5UrxRT"
      },
      "source": [
        "## 1 - Packages"
      ]
    },
    {
      "cell_type": "markdown",
      "metadata": {
        "id": "hei_-Ma-tOhR"
      },
      "source": [
        "**Exercise**: Please mount your Google drive, and set up your working folder here."
      ]
    },
    {
      "cell_type": "code",
      "metadata": {
        "id": "_0U8Y54Congl",
        "colab": {
          "base_uri": "https://localhost:8080/"
        },
        "outputId": "30fb8e03-e9e7-481a-cef6-f24679a4fad3"
      },
      "source": [
        "from google.colab import drive\n",
        "drive.mount('/content/drive')"
      ],
      "execution_count": null,
      "outputs": [
        {
          "output_type": "stream",
          "name": "stdout",
          "text": [
            "Drive already mounted at /content/drive; to attempt to forcibly remount, call drive.mount(\"/content/drive\", force_remount=True).\n"
          ]
        }
      ]
    },
    {
      "cell_type": "code",
      "metadata": {
        "id": "ibN88sy3sxy5"
      },
      "source": [
        "import os\n",
        "# start your code here\n",
        "os.chdir(\"/content/drive/MyDrive/Deep Learning Assignments/Homework3\") # change your working folder here\n",
        "# end your code here"
      ],
      "execution_count": null,
      "outputs": []
    },
    {
      "cell_type": "markdown",
      "metadata": {
        "id": "o9H7MX-2rxRT"
      },
      "source": [
        "Let's first import all the packages that you will need during this assignment. \n",
        "- [numpy](https://www.numpy.org/) is the fundamental package for scientific computing with Python.\n",
        "- [matplotlib](http://matplotlib.org) is a library to plot graphs in Python.\n",
        "- [h5py](http://www.h5py.org) is a common package to interact with a dataset that is stored on an H5 file.\n",
        "- [PIL](http://www.pythonware.com/products/pil/) and [scipy](https://www.scipy.org/) are used here to test your model with your own picture at the end.\n",
        "- dnn_app_utils provides the customized functions that will be used in this notebook.\n",
        "- np.random.seed(1) is used to keep all the random function calls consistent. It will help us grade your work."
      ]
    },
    {
      "cell_type": "code",
      "metadata": {
        "id": "MY54vu0IrxRU",
        "colab": {
          "base_uri": "https://localhost:8080/"
        },
        "outputId": "bd43a4cd-c112-44a3-874d-29b2e94a80a5"
      },
      "source": [
        "import time\n",
        "import numpy as np\n",
        "import tensorflow as tf\n",
        "import h5py\n",
        "import matplotlib.pyplot as plt\n",
        "import dnn_app_utils_v3 as du\n",
        "from skimage.transform import rescale, resize, downscale_local_mean\n",
        "\n",
        "# refresh 'planar_utils' module\n",
        "import imp\n",
        "imp.reload(du)\n",
        "\n",
        "%matplotlib inline\n",
        "plt.rcParams['figure.figsize'] = (5.0, 4.0) # set default size of plots\n",
        "plt.rcParams['image.interpolation'] = 'nearest'\n",
        "plt.rcParams['image.cmap'] = 'gray'\n",
        "\n",
        "%load_ext autoreload\n",
        "%autoreload 2\n",
        "\n",
        "np.random.seed(1)\n",
        "tf.random.set_seed(1)"
      ],
      "execution_count": null,
      "outputs": [
        {
          "output_type": "stream",
          "name": "stdout",
          "text": [
            "The autoreload extension is already loaded. To reload it, use:\n",
            "  %reload_ext autoreload\n"
          ]
        }
      ]
    },
    {
      "cell_type": "markdown",
      "metadata": {
        "id": "Ng-fWoBBrxRW"
      },
      "source": [
        "## 2 - Dataset\n",
        "\n",
        "**Problem Statement**: You are given a dataset (\"data.h5\") containing:\n",
        "    - a training set of m_train images labelled as cat (1) or non-cat (0)\n",
        "    - a test set of m_test images labelled as cat and non-cat\n",
        "    - each image is of shape (num_px, num_px, 3) where 3 is for the 3 channels (RGB).\n",
        "\n",
        "Let's get more familiar with the dataset. Load the data by running the cell below.\n",
        "\n",
        "The training input and output are stored in 'train_x_orig' and 'train_y'. The test input and output are stored in 'test_x_orig' and 'test_y'. "
      ]
    },
    {
      "cell_type": "code",
      "metadata": {
        "id": "JeriZ2MHrxRW"
      },
      "source": [
        "train_x_orig, train_y, test_x_orig, test_y, classes = du.load_data()\n",
        "#print(classes)"
      ],
      "execution_count": null,
      "outputs": []
    },
    {
      "cell_type": "markdown",
      "metadata": {
        "id": "B6gdY7eWrxRX"
      },
      "source": [
        "The following code will show you an image in the dataset. Feel free to change the index and re-run the cell multiple times to see other images. "
      ]
    },
    {
      "cell_type": "code",
      "metadata": {
        "id": "GLC4JfABrxRX",
        "colab": {
          "base_uri": "https://localhost:8080/",
          "height": 286
        },
        "outputId": "a76d5b24-86ea-4642-e89c-6739269589f3"
      },
      "source": [
        "# Example of a picture\n",
        "index = 67\n",
        "plt.imshow(train_x_orig[index])\n",
        "print(\"y = \" + str(train_y[index,0]) + \". It's a \" + classes[train_y[index,0]].decode(\"utf-8\") +  \" picture.\")\n",
        "#print(train_x_orig[index].shape,train_x_orig[index])"
      ],
      "execution_count": null,
      "outputs": [
        {
          "output_type": "stream",
          "name": "stdout",
          "text": [
            "y = 0. It's a non-cat picture.\n"
          ]
        },
        {
          "output_type": "display_data",
          "data": {
            "image/png": "[encoded data removed]",
            "text/plain": [
              "<Figure size 360x288 with 1 Axes>"
            ]
          },
          "metadata": {
            "needs_background": "light"
          }
        }
      ]
    },
    {
      "cell_type": "markdown",
      "metadata": {
        "id": "8LcmDz99lbsD"
      },
      "source": [
        "Let's explore more about the training data. We are curious about the shape of each image and can use 'train_x_orig[index].shape' to expore it. \n",
        "**Exercise**: Can you tell what the pixel number of each image is?"
      ]
    },
    {
      "cell_type": "code",
      "metadata": {
        "id": "tKIwmFCyrxRY",
        "colab": {
          "base_uri": "https://localhost:8080/"
        },
        "outputId": "574293dc-ddae-41ae-feee-1ffc80b87b4d"
      },
      "source": [
        "# Explore your dataset \n",
        "image_shape=train_x_orig[index].shape\n",
        "print(\"Each image is of size: \", image_shape)\n",
        "#start your code here\n",
        "num_px= image_shape[0]   # the number of pixels in each column of the image. Hint: The 1st element in image_shape indicates this number?\n",
        "#end your code here\n",
        "print('Number of pixels in each column of the image:', num_px)"
      ],
      "execution_count": null,
      "outputs": [
        {
          "output_type": "stream",
          "name": "stdout",
          "text": [
            "Each image is of size:  (64, 64, 3)\n",
            "Number of pixels in each column of the image: 64\n"
          ]
        }
      ]
    },
    {
      "cell_type": "markdown",
      "source": [
        "**Expected result:**\n",
        "\n",
        "Each image is of size:  (64, 64, 3)\n",
        "\n",
        "Number of pixels in each column of the image: 209\n"
      ],
      "metadata": {
        "id": "yWNinESiCkYX"
      }
    },
    {
      "cell_type": "markdown",
      "metadata": {
        "id": "SBoQZoWQpBU4"
      },
      "source": [
        "We just take a close look at an image of the image set. Now, let's take a look at the whole training set. \n",
        "\n",
        "**Exercise**: The first 4 lines in the following cell print out the shape of the trining images. There are 209 images, and each image has 64 by 64 pixcels and GRB color. \n",
        "\n",
        "Please print out the shape of the test input (stored in `test_x_orig`) and output (stored in `test_y`) data, and tell how many images we have in the test data. "
      ]
    },
    {
      "cell_type": "code",
      "metadata": {
        "colab": {
          "base_uri": "https://localhost:8080/"
        },
        "id": "79Q7fiuYnP1C",
        "outputId": "a307de6b-b6db-488e-f78f-ef1d37b4994e"
      },
      "source": [
        "train_x_shape=train_x_orig.shape\n",
        "m_train = train_x_shape[0]\n",
        "print (\"train_x_orig shape: \",train_x_shape)\n",
        "print (\"Number of training examples: \" ,m_train)\n",
        "# start your code here\n",
        "test_x_shape=test_x_orig.shape\n",
        "test_y_shape=test_y.shape\n",
        "m_test = test_x_shape[0]\n",
        "# end your code here\n",
        "\n",
        "print (\"test_x_orig shape: \" ,test_x_shape)\n",
        "print (\"test_y shape: \" , test_y_shape)\n",
        "print (\"Number of test examples: \" ,m_test)"
      ],
      "execution_count": null,
      "outputs": [
        {
          "output_type": "stream",
          "name": "stdout",
          "text": [
            "train_x_orig shape:  (209, 64, 64, 3)\n",
            "Number of training examples:  209\n",
            "test_x_orig shape:  (50, 64, 64, 3)\n",
            "test_y shape:  (50, 1)\n",
            "Number of test examples:  50\n"
          ]
        }
      ]
    },
    {
      "cell_type": "markdown",
      "source": [
        "**Expected result:**\n",
        "\n",
        "train_x_orig shape:  (209, 64, 64, 3)\n",
        "\n",
        "Number of training examples:  209\n",
        "\n",
        "test_x_orig shape:  (50, 64, 64, 3)\n",
        "\n",
        "test_y shape:  (50, 1)\n",
        "\n",
        "Number of test examples:  50 "
      ],
      "metadata": {
        "id": "sKRWGLxlCy6-"
      }
    },
    {
      "cell_type": "markdown",
      "metadata": {
        "id": "pMoCSiCWrxRY"
      },
      "source": [
        "As mentioned in our lecture, you reshape and standardize the images before feeding them to the network. The code is given in the cell below.\n",
        "\n",
        "![alt text](https://drive.google.com/uc?id=1TVZDDvQUKuSMUqMtS7Ahessd3-H8bqq9)\n",
        "<caption><center> <u>Figure 1</u>: Image to vector conversion. <br> </center></caption>"
      ]
    },
    {
      "cell_type": "code",
      "metadata": {
        "id": "nrdXco3grxRY"
      },
      "source": [
        "# Reshape the training and test examples \n",
        "train_x_flatten = train_x_orig.reshape(train_x_shape[0], -1)   # The \"-1\" makes reshape flatten the remaining dimensions\n",
        "test_x_flatten = test_x_orig.reshape(test_x_orig.shape[0], -1)"
      ],
      "execution_count": null,
      "outputs": []
    },
    {
      "cell_type": "markdown",
      "metadata": {
        "id": "vvmsCTJfN_OS"
      },
      "source": [
        "Data normalization can help us accelerate the training process. The RGB values of an image are integers in the range of [0,255]. We can normalize the training images to have the feature values between 0 and 1 by using `train_x = train_x_flatten/255.0`.\n",
        "\n",
        "**Exercise**: We normalize the training images using `train_x = train_x_flatten/255.0` in the 1st line. Please normalize the test images to have feature values between 0 and 1."
      ]
    },
    {
      "cell_type": "code",
      "metadata": {
        "colab": {
          "base_uri": "https://localhost:8080/"
        },
        "id": "XpmJC7S8OlGL",
        "outputId": "ee527a92-c53d-4942-8005-1c86146080db"
      },
      "source": [
        "# Standardize data to have feature values between 0 and 1.\n",
        "train_x = train_x_flatten/255.0\n",
        "\n",
        "#start your code here\n",
        "test_x = test_x_flatten/255.0\n",
        "#end your code here\n",
        "\n",
        "print (\"train_x's shape: \" + str(train_x.shape))\n",
        "print (\"test_x's shape: \" + str(test_x.shape))\n",
        "print (\"train_y's shape: \" + str(train_y.shape))\n",
        "print (\"test_y's shape: \" + str(test_y.shape))"
      ],
      "execution_count": null,
      "outputs": [
        {
          "output_type": "stream",
          "name": "stdout",
          "text": [
            "train_x's shape: (209, 12288)\n",
            "test_x's shape: (50, 12288)\n",
            "train_y's shape: (209, 1)\n",
            "test_y's shape: (50, 1)\n"
          ]
        }
      ]
    },
    {
      "cell_type": "markdown",
      "source": [
        "**Expected result:**\n",
        "\n",
        "train_x's shape: (209, 12288)\n",
        "\n",
        "test_x's shape: (50, 12288)\n",
        "\n",
        "train_y's shape: (209, 1)\n",
        "\n",
        "test_y's shape: (50, 1)"
      ],
      "metadata": {
        "id": "oj19VUdFDKHD"
      }
    },
    {
      "cell_type": "markdown",
      "metadata": {
        "id": "4q-yRZNQQBtY"
      },
      "source": [
        "###3- Build your neural network ###\n",
        "Now, we are going to use the skills in the first module to build our neural network. \n",
        "\n",
        "Excep the input layer, you can use \n",
        "\n",
        "`tf.keras.layers.Dense(20,activation='relu', \n",
        "                            kernel_initializer='glorot_uniform',\n",
        "                            bias_initializer='zeros')`\n",
        "\n",
        "to build the layers. In this example, we have 20 neurons in this layer, use 'relu' as the activation function, initialize our weight randomly using 'glorot_uniform', and our bias is initialized to be 'zeros'. \n",
        "\n",
        "First, we will need an input layer. How many neurons will you need in the input layer? Hint: how many elements does every training input have?\n",
        "\n",
        "Second, we will build several hidden layers. You are free to choose the number of neurons in every hidden layer. \n",
        "\n",
        "Last, we will build the output layer. How many neurons will you need in the output layer? Which activation function is more suitale in this problem? Hint: how many elements does every training output have? What is the range of the training output?\n"
      ]
    },
    {
      "cell_type": "code",
      "metadata": {
        "id": "H71UHvjaxREs",
        "colab": {
          "base_uri": "https://localhost:8080/"
        },
        "outputId": "cfcbe832-f462-40eb-8616-7c3d6ce496b6"
      },
      "source": [
        "tf.random.set_seed(1) # we fixed the seed of the random number generator, so every time running this code, we can have the same results.\n",
        "\n",
        "# start your code here\n",
        "cat_model=tf.keras.Sequential([\n",
        "    tf.keras.layers.InputLayer(input_shape=(12288)), # how many elements are there in every training image?\n",
        "    tf.keras.layers.Dense(20,activation='relu', # in layer 1, we will have 20 neurons and use 'relu' as the activation function\n",
        "                            kernel_initializer='glorot_uniform', # we will randomly choose the initial weight using the 'glorot_uniform' method\n",
        "                            bias_initializer='zeros'), # we will initialize all bias to be zeros.\n",
        "    #please follow the example of layer 1 to add more hidden layers here. \n",
        "    tf.keras.layers.Dense(20,activation='relu',\n",
        "                          kernel_initializer='glorot_uniform',\n",
        "                          bias_initializer='zeros'), \n",
        "    # End adding hidden layers                    \n",
        "    tf.keras.layers.Dense(1,activation='sigmoid', # how many elements are there in every training output\n",
        "                            kernel_initializer='glorot_uniform',\n",
        "                            bias_initializer='zeros'),\n",
        "])\n",
        "# end your code here\n",
        "cat_model.summary()"
      ],
      "execution_count": null,
      "outputs": [
        {
          "output_type": "stream",
          "name": "stdout",
          "text": [
            "Model: \"sequential_4\"\n",
            "_________________________________________________________________\n",
            " Layer (type)                Output Shape              Param #   \n",
            "=================================================================\n",
            " dense_13 (Dense)            (None, 20)                245780    \n",
            "                                                                 \n",
            " dense_14 (Dense)            (None, 20)                420       \n",
            "                                                                 \n",
            " dense_15 (Dense)            (None, 1)                 21        \n",
            "                                                                 \n",
            "=================================================================\n",
            "Total params: 246,221\n",
            "Trainable params: 246,221\n",
            "Non-trainable params: 0\n",
            "_________________________________________________________________\n"
          ]
        }
      ]
    },
    {
      "cell_type": "markdown",
      "metadata": {
        "id": "nRMApHybXkD8"
      },
      "source": [
        "Now, let's compile the model. When comiling your model, you will need to specify the optimizer, the loss function, and the metrics.\n",
        "\n",
        "For optimizers, the most popular ones are 'Adam' and its derivatives. You can also try 'RMSprop' and 'SGD' to see which one works better for you. You might need adjust the learning rate to acceperate the training process. \n",
        "\n",
        "For loss functions, our problem is a two-class classification problem. The most popular loss function would be 'BinaryCrossentropy'. If this is a multiple-class classification problem, you probably want to try 'CategoricalCrossentropy' or 'SparseCategoricalCrossentropy'. \n",
        "\n",
        "For the metrics, we want to know the accuracy of our model. Therefore, I would recommend 'accuracy'. "
      ]
    },
    {
      "cell_type": "code",
      "metadata": {
        "id": "R2zh-VWoT7o5"
      },
      "source": [
        "# start your code here\n",
        "cat_model.compile(optimizer=tf.keras.optimizers.Adam(learning_rate=0.0015),  # Optimizer. Please change 'None' to some meaningful learning rate which is usually <1\n",
        "    # Loss function to minimize\n",
        "    loss=tf.keras.losses.BinaryCrossentropy(),\n",
        "    # List of metrics to monitor\n",
        "    metrics=['accuracy'],\n",
        "                 )\n",
        "# end your code here"
      ],
      "execution_count": null,
      "outputs": []
    },
    {
      "cell_type": "markdown",
      "metadata": {
        "id": "SGSAcJuTZw2C"
      },
      "source": [
        "It's time to train. \n",
        "\n",
        "We can plot training history. It can help us to adjust the parameters. \n",
        "\n",
        "If the training loss increases, we may want to decrease the `learning_rate`.\n",
        "\n",
        "If the training loss has large vibration, we may want to decrease the `learning_rate`. \n",
        "\n",
        "If the training loss decreases too slowly, we need to increase `learning_rate`.\n",
        "\n",
        "If the training loss decreases at a good speed, but ends up large, we may want to increase the epoch number. "
      ]
    },
    {
      "cell_type": "code",
      "source": [
        "test_x.shape"
      ],
      "metadata": {
        "colab": {
          "base_uri": "https://localhost:8080/"
        },
        "id": "D1KkUmd9T5gN",
        "outputId": "1f58b522-5e72-4d0f-ad21-2a43bdaa71fa"
      },
      "execution_count": null,
      "outputs": [
        {
          "output_type": "execute_result",
          "data": {
            "text/plain": [
              "(50, 12288)"
            ]
          },
          "metadata": {},
          "execution_count": 38
        }
      ]
    },
    {
      "cell_type": "code",
      "metadata": {
        "colab": {
          "base_uri": "https://localhost:8080/",
          "height": 456
        },
        "id": "TYZnpHLPVIRY",
        "outputId": "5fef04f4-230f-4559-ad39-3260801da31d"
      },
      "source": [
        "# start your code here\n",
        "history = cat_model.fit(\n",
        "    train_x, # input data\n",
        "    train_y, # real output data\n",
        "    epochs=5,  # how many iterations do you want to train your model? Your data will be reused to train the model for the number of epochs. I trained 5 min for this model\n",
        ")\n",
        "# end your code here. \n",
        "plt.figure()\n",
        "plt.plot(history.history['loss'])\n",
        "# plt.plot(history.history['val_loss'])\n",
        "# plt.legend(['loss','val_loss'])"
      ],
      "execution_count": null,
      "outputs": [
        {
          "output_type": "stream",
          "name": "stdout",
          "text": [
            "Epoch 1/5\n",
            "7/7 [==============================] - 0s 6ms/step - loss: 0.7758 - accuracy: 0.5502\n",
            "Epoch 2/5\n",
            "7/7 [==============================] - 0s 6ms/step - loss: 0.7378 - accuracy: 0.6316\n",
            "Epoch 3/5\n",
            "7/7 [==============================] - 0s 6ms/step - loss: 0.8137 - accuracy: 0.5407\n",
            "Epoch 4/5\n",
            "7/7 [==============================] - 0s 8ms/step - loss: 0.9033 - accuracy: 0.5742\n",
            "Epoch 5/5\n",
            "7/7 [==============================] - 0s 6ms/step - loss: 0.8168 - accuracy: 0.6507\n"
          ]
        },
        {
          "output_type": "execute_result",
          "data": {
            "text/plain": [
              "[<matplotlib.lines.Line2D at 0x7fb39c461bd0>]"
            ]
          },
          "metadata": {},
          "execution_count": 40
        },
        {
          "output_type": "display_data",
          "data": {
            "image/png": "[encoded data removed]",
            "text/plain": [
              "<Figure size 360x288 with 1 Axes>"
            ]
          },
          "metadata": {
            "needs_background": "light"
          }
        }
      ]
    },
    {
      "cell_type": "markdown",
      "metadata": {
        "id": "-yLMfXSWfKVA"
      },
      "source": [
        "### 4. test ###\n",
        "Now that both models are trained, let us test their performance using our test dataset. The test dataset is never used to train the models, and reflects the acutual performance of the model when it is used in the general images.\n",
        "\n",
        "To evaluate the model , we can use\n",
        "`cat_model.evaluate(test_x,test_y)`.\n",
        "\n",
        "**Exercise**: Please evaluate the model with regularization. "
      ]
    },
    {
      "cell_type": "code",
      "metadata": {
        "colab": {
          "base_uri": "https://localhost:8080/"
        },
        "id": "4pyTS3HmHXFQ",
        "outputId": "2926aa41-241a-40e5-9d02-83d17472338d"
      },
      "source": [
        "cat_model.evaluate(test_x,test_y)"
      ],
      "execution_count": null,
      "outputs": [
        {
          "output_type": "stream",
          "name": "stdout",
          "text": [
            "2/2 [==============================] - 0s 10ms/step - loss: 0.3787 - accuracy: 0.8600\n"
          ]
        },
        {
          "output_type": "execute_result",
          "data": {
            "text/plain": [
              "[0.37872692942619324, 0.8600000143051147]"
            ]
          },
          "metadata": {},
          "execution_count": 41
        }
      ]
    },
    {
      "cell_type": "markdown",
      "metadata": {
        "id": "crWckG9I807Q"
      },
      "source": [
        "The expected accuracy is higher than 0.7. If the accuracy is lower than 0.7, you may want to increase the epoch number, adjust the learning rate, and the regularizer weight, to achieve the goal. \n",
        "\n",
        "For your reference, I trained the model for 5 min to achieve that goal. \n",
        "\n",
        "If you have achieved the 0.7 goal, I would like to challenge you for the 0.8 accuracy for the test set. "
      ]
    }
  ]
}